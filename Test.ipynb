{
 "cells": [
  {
   "cell_type": "markdown",
   "metadata": {},
   "source": [
    "# Layers"
   ]
  },
  {
   "cell_type": "code",
   "execution_count": 4,
   "metadata": {},
   "outputs": [],
   "source": [
    "import numpy as np\n",
    "import pandas as pd"
   ]
  },
  {
   "cell_type": "code",
   "execution_count": 34,
   "metadata": {},
   "outputs": [],
   "source": [
    "class Model:\n",
    "    \n",
    "    # Constructor\n",
    "    def __init__(self):\n",
    "        self.num_layers = 0\n",
    "        self.layers_info = {}\n",
    "        self.layers = []\n",
    "        self.weights = []\n",
    "        self.biases = []\n",
    "    \n",
    "    # Add a fully connected layer\n",
    "    def add_dense_layer(self, size, input_size = 0, activation = 'linear'):\n",
    "        self.num_layers += 1\n",
    "        self.layers_info['Layer_'+str(self.num_layers)] = {\n",
    "            'size': size,\n",
    "            'activation': activation\n",
    "        }\n",
    "        self.layers.append(np.zeros(size))\n",
    "        if input_size != 0:\n",
    "            self.weights.append(np.zeros((size, input_size)))\n",
    "        else:\n",
    "            self.weights.append(np.zeros((size, self.layers_info['Layer_'+str(self.num_layers-1)]['size'])))\n",
    "        self.biases.append(np.zeros(size))\n",
    "        \n",
    "    # Selection of Loss Function and Optimization function\n",
    "    def add_functions(self, lr = 0.01, loss = 'mse', optimizer = 'gd'):\n",
    "        if loss == 'mse':\n",
    "            pass\n",
    "        if optimizer == 'gd':\n",
    "            pass\n",
    "    \n",
    "    # Forward Propogation\n",
    "    def neural_network_output(self, X_train, y_train):\n",
    "        for i in range(self.layers):\n",
    "            \n",
    "        \n",
    "    # Training using Backpropogation\n",
    "    def train(X_train, y_train, epochs = 1):\n",
    "        while epochs:\n",
    "            for record, label in zip(X_train, y_train):\n",
    "                predicted_output = self.neural_network_output(X_train, y_train)\n",
    "                "
   ]
  },
  {
   "cell_type": "code",
   "execution_count": 44,
   "metadata": {},
   "outputs": [],
   "source": [
    "model = Model()\n",
    "\n",
    "model.add_dense_layer(3, 6)\n",
    "model.add_dense_layer(3, activation='relu')\n",
    "model.add_dense_layer(1, activation='sigmoid')"
   ]
  },
  {
   "cell_type": "code",
   "execution_count": null,
   "metadata": {},
   "outputs": [],
   "source": []
  }
 ],
 "metadata": {
  "kernelspec": {
   "display_name": "Python 3",
   "language": "python",
   "name": "python3"
  },
  "language_info": {
   "codemirror_mode": {
    "name": "ipython",
    "version": 3
   },
   "file_extension": ".py",
   "mimetype": "text/x-python",
   "name": "python",
   "nbconvert_exporter": "python",
   "pygments_lexer": "ipython3",
   "version": "3.6.5"
  }
 },
 "nbformat": 4,
 "nbformat_minor": 2
}
