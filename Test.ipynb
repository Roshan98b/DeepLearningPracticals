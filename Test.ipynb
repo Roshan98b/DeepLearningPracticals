{
 "cells": [
  {
   "cell_type": "markdown",
   "metadata": {},
   "source": [
    "# Layers"
   ]
  },
  {
   "cell_type": "code",
   "execution_count": 1,
   "metadata": {},
   "outputs": [],
   "source": [
    "import numpy as np\n",
    "import pandas as pd"
   ]
  },
  {
   "cell_type": "code",
   "execution_count": null,
   "metadata": {},
   "outputs": [],
   "source": [
    "def one_hot_encoded(n):\n",
    "    array = []\n",
    "    for i in range(n):\n",
    "        \n",
    "        array.append()"
   ]
  },
  {
   "cell_type": "code",
   "execution_count": 24,
   "metadata": {},
   "outputs": [],
   "source": [
    "class Model:\n",
    "    \n",
    "    # Constructor\n",
    "    def __init__(self):\n",
    "        self.num_layers = 0\n",
    "        self.layers_info = {}\n",
    "        self.layers = []\n",
    "        self.weights = []\n",
    "        self.biases = []\n",
    "    \n",
    "    # Add a fully connected layer\n",
    "    def add_dense_layer(self, size, input_size = 0, activation = 'linear'):\n",
    "        self.num_layers += 1\n",
    "        self.layers_info['Layer_'+str(self.num_layers)] = {\n",
    "            'size': size,\n",
    "            'activation': activation\n",
    "        }\n",
    "        self.layers.append(np.ones(size))\n",
    "        if input_size != 0:\n",
    "            self.weights.append(np.ones((size, input_size)))\n",
    "        else:\n",
    "            self.weights.append(np.ones((size, self.layers_info['Layer_'+str(self.num_layers-1)]['size'])))\n",
    "        self.biases.append(np.ones(size))\n",
    "        \n",
    "    # Selection of Loss Function and Optimization function\n",
    "    def set_parameters(self, lr = 0.01, loss = 'mse', optimizer = 'gd'):\n",
    "        if loss == 'mse':\n",
    "            pass\n",
    "        if optimizer == 'gd':\n",
    "            pass\n",
    "    \n",
    "    def sigmoid(self, x):\n",
    "        return 1 / (1 + (np.e ** x))\n",
    "    \n",
    "    def relu(self, x):\n",
    "        return max(0, x)\n",
    "    \n",
    "    def softmax(self, x):\n",
    "        exp = np.exp(x)\n",
    "        return np.true_divide(exp, sum(exp)).transpose()\n",
    "    \n",
    "    def activation(self, net_sum, activation):\n",
    "        if activation == 'sigmoid':\n",
    "            activation_function = self.sigmoid\n",
    "            output_vector = np.array([activation_function(i) for i in net_sum]).transpose()\n",
    "        elif activation == 'relu':\n",
    "            activation_function = self.relu\n",
    "            output_vector = np.array([activation_function(i) for i in net_sum]).transpose()\n",
    "        elif activation == 'softmax':\n",
    "            activation_function = self.softmax\n",
    "            output_vector = activation_function(net_sum)\n",
    "        return output_vector\n",
    "    \n",
    "    # Forward Propogation\n",
    "    def neural_network_output(self, record):\n",
    "        input_vector = record.transpose()\n",
    "        output_vector = None\n",
    "        for i in range(len(self.layers)):\n",
    "            # y = aW + b\n",
    "            net_sum = np.matmul(self.weights[i], input_vector) + self.biases[i].transpose()\n",
    "            output_vector = self.activation(net_sum, self.layers_info['Layer_'+str(i+1)]['activation'])\n",
    "            input_vector = output_vector \n",
    "        return output_vector\n",
    "            \n",
    "    # Training using Backpropogation\n",
    "    def train(self, X_train, y_train, epochs = 1):\n",
    "        while epochs:\n",
    "            for record, label in zip(X_train, y_train):\n",
    "                print(record)\n",
    "                print(label)\n",
    "                true_output = label.transpose()\n",
    "                predicted_output = self.neural_network_output(record)\n",
    "                return predicted_output\n",
    "                \n",
    "                "
   ]
  },
  {
   "cell_type": "code",
   "execution_count": 25,
   "metadata": {},
   "outputs": [
    {
     "name": "stdout",
     "output_type": "stream",
     "text": [
      "(0, 0)\n",
      "0\n"
     ]
    },
    {
     "data": {
      "text/plain": [
       "array([0.04742587])"
      ]
     },
     "execution_count": 25,
     "metadata": {},
     "output_type": "execute_result"
    }
   ],
   "source": [
    "model = Model()\n",
    "\n",
    "model.add_dense_layer(2, 2, activation='relu')\n",
    "model.add_dense_layer(1, activation='sigmoid')\n",
    "\n",
    "X_train = np.array([0,0], [0,1], [1,0], [1,1]])\n",
    "y_train = one_hot_encoded(2)\n",
    "\n",
    "model.train(X_train, y_train)"
   ]
  },
  {
   "cell_type": "code",
   "execution_count": null,
   "metadata": {},
   "outputs": [],
   "source": []
  }
 ],
 "metadata": {
  "kernelspec": {
   "display_name": "Python 3",
   "language": "python",
   "name": "python3"
  },
  "language_info": {
   "codemirror_mode": {
    "name": "ipython",
    "version": 3
   },
   "file_extension": ".py",
   "mimetype": "text/x-python",
   "name": "python",
   "nbconvert_exporter": "python",
   "pygments_lexer": "ipython3",
   "version": "3.6.5"
  }
 },
 "nbformat": 4,
 "nbformat_minor": 2
}
